{
 "cells": [
  {
   "cell_type": "code",
   "execution_count": null,
   "id": "b2c62888-9618-4bad-a7f3-ba698f4f7fe4",
   "metadata": {},
   "outputs": [],
   "source": [
    "# Plotting\n",
    "import matplotlib as mpl\n",
    "import matplotlib.pyplot as plt\n",
    "%matplotlib widget\n",
    "\n",
    "# OS\n",
    "import os\n",
    "\n",
    "# Math\n",
    "import numpy as np\n",
    "\n",
    "# Paths\n",
    "path = './data/'\n",
    "pathout = './data/'\n",
    "pathgraphs = './graphs/'\n",
    "\n",
    "for p in [path, pathout, pathgraphs]:\n",
    "    if os.path.exists(p)==False:\n",
    "        os.mkdir(p)"
   ]
  },
  {
   "cell_type": "code",
   "execution_count": null,
   "id": "0a3cddc9-7c2f-4889-82c1-1231f70c02c2",
   "metadata": {
    "slideshow": {
     "slide_type": "-"
    }
   },
   "outputs": [],
   "source": [
    "def CobbDouglas(K=1, L=1, A=1, alpha=0.3):\n",
    "    '''\n",
    "    This function computes the level of output of a Cobb-Douglas production function.\n",
    "    Given values of K, L, A, and alpha it returns $A\\cdot K^\\alpha \\cdot L^{1-\\alpha}$.\n",
    "    Parameters:\n",
    "    -----------\n",
    "    K: float, integer or any other number, default=1\n",
    "    L: float, integer or any other number, default=1\n",
    "    A: float, integer or any other number, default=1\n",
    "    alpha: float between (0,1), default=0.3\n",
    "    \n",
    "    Returns:\n",
    "    --------\n",
    "    out = A * K**alpha * L**(1-alpha)\n",
    "    \n",
    "    Example:\n",
    "    >>> out = CobbDouglas(4, 9, 2, 1/2)\n",
    "    >>> out\n",
    "        12\n",
    "    '''\n",
    "    x = A * K**alpha * L**(1-alpha)\n",
    "    return x"
   ]
  },
  {
   "cell_type": "code",
   "execution_count": null,
   "id": "d41c2481-ac1c-4e1b-9098-ff9f97a363eb",
   "metadata": {},
   "outputs": [],
   "source": [
    "K = np.linspace(0, 5, 100)\n",
    "x= CobbDouglas(K)\n",
    "plt.plot(x)"
   ]
  },
  {
   "cell_type": "code",
   "execution_count": null,
   "id": "978bb734-daf7-4b42-9c0c-baea177c38bd",
   "metadata": {},
   "outputs": [],
   "source": []
  },
  {
   "cell_type": "code",
   "execution_count": null,
   "id": "ec94ad69-4f77-4698-af59-71e29db19973",
   "metadata": {},
   "outputs": [],
   "source": []
  }
 ],
 "metadata": {
  "kernelspec": {
   "display_name": "Python 3 (ipykernel)",
   "language": "python",
   "name": "python3"
  },
  "language_info": {
   "codemirror_mode": {
    "name": "ipython",
    "version": 3
   },
   "file_extension": ".py",
   "mimetype": "text/x-python",
   "name": "python",
   "nbconvert_exporter": "python",
   "pygments_lexer": "ipython3",
   "version": "3.9.13"
  }
 },
 "nbformat": 4,
 "nbformat_minor": 5
}
