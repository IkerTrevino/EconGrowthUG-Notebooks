{
 "cells": [
  {
   "cell_type": "markdown",
   "id": "34da39f1-1fa6-46ff-93aa-e1e17878a9c5",
   "metadata": {},
   "source": [
    "Economic growth is what every country around the world strives to achieve, but what exactly is economic growth?  Economic growth can be defined as an increase in the volume an economy can effectively produce goods and services, compared from one moment in time to another. Over the years we have seen how different countries around the world have had economic growth at different times and in different portions. Countries such as the United States,  China, Germany, and the United Kingdom developed and had faster economic growth compared to countries such as Mexico, Ireland, and Thailand. The question we are going to investigate in this project is, how much does a country's economic growth rely on the country's income and how much the income inequality gap affects economic growth. "
   ]
  },
  {
   "cell_type": "markdown",
   "id": "b94591fe-f3e5-4ef7-9dfd-c7192da6cb32",
   "metadata": {},
   "source": [
    "We believe this is a very interesting question because if a country’s economic growth is directly affected by its income inequality gap then much of a country’s advancements will depend on its capital which for many poor or developing country’s makes it harder to achieve an increase in economic growth. It could also mean that we can assume that income/wealth was different in the earlier years than it is today, or maybe that the income inequality gap was smaller than it is nowadays. Moreover, in today's economy we see that economies are closely affected by this income gap and it has become a very important topic in economics.\n"
   ]
  },
  {
   "cell_type": "markdown",
   "id": "312dfa01-1946-49e4-aa13-5b22db71bd08",
   "metadata": {},
   "source": [
    "In order to come up with the answer to this question, we plan to do research on countries' growth, income rates, and the gap between the social classes of the countries. Once we research and find information, we plan to compare and contrast them in order to find out if a country depends on their income for economic growth. We will also look at low income countries and high income countries and see what their production status is. Most countries with a low amount of income can’t produce as much as those with higher income. Production in technology is very important when it comes to growth in an economy and without money, it’s impossible for the production to happen. In order to back up our argument, we will be providing information over the countries Gross Domestic Products (GDP’s), incomes, and economic activity graphs. This will serve as our uses for data. Our group has also agreed and decided to use the paper format in order to complete this project and we will also include a DAG model to explain our data.\n"
   ]
  },
  {
   "cell_type": "markdown",
   "id": "9bc8c647-35dc-46a6-b7b1-aeea8aa3da20",
   "metadata": {},
   "source": [
    "We will have this paper completed by the assignment due date on October 23. During the next month we will be researching and saving out data to then create our final analysis before the due date.\n"
   ]
  }
 ],
 "metadata": {
  "kernelspec": {
   "display_name": "Python 3 (ipykernel)",
   "language": "python",
   "name": "python3"
  },
  "language_info": {
   "codemirror_mode": {
    "name": "ipython",
    "version": 3
   },
   "file_extension": ".py",
   "mimetype": "text/x-python",
   "name": "python",
   "nbconvert_exporter": "python",
   "pygments_lexer": "ipython3",
   "version": "3.9.13"
  }
 },
 "nbformat": 4,
 "nbformat_minor": 5
}
