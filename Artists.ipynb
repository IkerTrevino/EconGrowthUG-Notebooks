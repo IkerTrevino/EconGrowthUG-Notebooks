{
 "cells": [
  {
   "cell_type": "code",
   "execution_count": null,
   "id": "07aa764c-7517-4326-9a8e-2f9444482b7f",
   "metadata": {},
   "outputs": [],
   "source": [
    "favorite_artists = ['Bad Bunny' , 'Morgan Wallen' , 'Ozuna' , 'Purple Disco Machine' , 'Claptone' , 'Luke Combs' , 'Christian Nodal' , 'Chema Rivas' , 'Calibre 50' , 'Anuel AA']"
   ]
  },
  {
   "cell_type": "code",
   "execution_count": null,
   "id": "27bc14ea-c20e-4b64-9d90-96487e4db25a",
   "metadata": {},
   "outputs": [],
   "source": [
    "favorite_songs = ['Efecto' , 'You Proof' , 'Que Va' , 'Que Maldicion' , 'Si te Pudiera Mentir' , 'At Night', 'Hurricane' , 'Titi Me Pregunto' , 'When It Rains It Pours', '7 Years']"
   ]
  },
  {
   "cell_type": "code",
   "execution_count": null,
   "id": "951c4ab8-3ebf-4fc8-9ec2-a6478061f3b3",
   "metadata": {},
   "outputs": [],
   "source": [
    "artists_best_song = {'Bad Bunny' : 'Titi Me Pregunto' , 'Morgan Wallen' : 'You Proof' , 'Ozuna' : 'Pasado y Presente' ,'Purple Disco Machine' : 'At Night' , 'Claptone' : 'Another Night' , 'Luke Combs' : 'Hurricane' , 'Christian Nodal' : 'Nace Un Borracho' , 'Chema Rivas' : 'Mil Tequilas' , 'Calibre 50' : 'Si Te Pudiera Mentir' , 'Anuel AA' : 'Quiere Beber'}"
   ]
  },
  {
   "cell_type": "code",
   "execution_count": null,
   "id": "ec46d0b6-65e1-4fc4-8c3c-893223ca9a27",
   "metadata": {},
   "outputs": [],
   "source": [
    "favorite_song_artist = {'Efecto' : 'Bad Bunny' , 'You Proof' : 'Morgan Wallen' , 'Que Va' : 'Alex Sensation and Ozuna' , 'Que Maldicion' : 'Banda MS de Sergio Lizarraga and Snoop Dogg' , 'Si te Pudiera Mentir' : 'Calibre 50' , 'At Night' : 'Purple Disco Machine' , 'Hurricane' : 'Luke Combs' , 'Titi Me Pregunto' : 'Bad Bunny' , 'When It Rains It Pours' : 'Luke Combs' , '7 Years' : 'Lukas Graham'}"
   ]
  }
 ],
 "metadata": {
  "kernelspec": {
   "display_name": "Python 3 (ipykernel)",
   "language": "python",
   "name": "python3"
  },
  "language_info": {
   "codemirror_mode": {
    "name": "ipython",
    "version": 3
   },
   "file_extension": ".py",
   "mimetype": "text/x-python",
   "name": "python",
   "nbconvert_exporter": "python",
   "pygments_lexer": "ipython3",
   "version": "3.9.13"
  }
 },
 "nbformat": 4,
 "nbformat_minor": 5
}
