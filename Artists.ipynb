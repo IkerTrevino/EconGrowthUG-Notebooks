{
 "cells": [
  {
   "cell_type": "code",
   "execution_count": 62,
   "id": "07aa764c-7517-4326-9a8e-2f9444482b7f",
   "metadata": {},
   "outputs": [],
   "source": [
    "favorite_artists = ['Bad Bunny' , 'Morgan Wallen' , 'Ozuna' , 'Purple Disco Machine' , 'Claptone' , 'Luke Combs' , 'Christian Nodal' , 'Chema Rivas' , 'Calibre 50' , 'Anuel AA']"
   ]
  },
  {
   "cell_type": "code",
   "execution_count": 76,
   "id": "27bc14ea-c20e-4b64-9d90-96487e4db25a",
   "metadata": {},
   "outputs": [],
   "source": [
    "favorite_songs = ['Efecto' , 'You Proof' , 'Que Va' , 'Que Maldicion' , 'Si te Pudiera Mentir' , 'At Night', 'Hurricane' , 'Titi Me Pregunto' , 'When It Rains It Pours', '7 Years']"
   ]
  },
  {
   "cell_type": "code",
   "execution_count": 77,
   "id": "951c4ab8-3ebf-4fc8-9ec2-a6478061f3b3",
   "metadata": {},
   "outputs": [],
   "source": [
    "artist_best_song = {'Bad Bunny' : 'Titi Me Pregunto' , 'Morgan Wallen' : 'You Proof' , 'Ozuna' : 'Pasado y Presente' ,'Purple Disco Machine' : 'At Night' , 'Claptone' : 'Another Night' , 'Luke Combs' : 'Hurricane' , 'Christian Nodal' : 'Nace Un Borracho' , 'Chema Rivas' : 'Mil Tequilas' , 'Calibre 50' : 'Si Te Pudiera Mentir' , 'Anuel AA' : 'Quiere Beber'}"
   ]
  },
  {
   "cell_type": "code",
   "execution_count": 78,
   "id": "ec46d0b6-65e1-4fc4-8c3c-893223ca9a27",
   "metadata": {},
   "outputs": [],
   "source": [
    "favorite_song_artist = {'Efecto' : 'Bad Bunny' , 'You Proof' : 'Morgan Wallen' , 'Que Va' : 'Alex Sensation and Ozuna' , 'Que Maldicion' : 'Banda MS de Sergio Lizarraga and Snoop Dogg' , 'Si te Pudiera Mentir' : 'Calibre 50' , 'At Night' : 'Purple Disco Machine' , 'Hurricane' : 'Luke Combs' , 'Titi Me Pregunto' : 'Bad Bunny' , 'When It Rains It Pours' : 'Luke Combs' , '7 Years' : 'Lukas Graham'}"
   ]
  },
  {
   "cell_type": "code",
   "execution_count": 79,
   "id": "4f2c73b2-554b-48ed-bd66-d73c77ef7a38",
   "metadata": {},
   "outputs": [
    {
     "name": "stdout",
     "output_type": "stream",
     "text": [
      "Titi Me Pregunto song is the best song of Bad Bunny\n",
      "You Proof song is the best song of Morgan Wallen\n",
      "Pasado y Presente song is the best song of Ozuna\n",
      "At Night song is the best song of Purple Disco Machine\n",
      "Another Night song is the best song of Claptone\n",
      "Hurricane song is the best song of Luke Combs\n",
      "Nace Un Borracho song is the best song of Christian Nodal\n",
      "Mil Tequilas song is the best song of Chema Rivas\n",
      "Si Te Pudiera Mentir song is the best song of Calibre 50\n",
      "Quiere Beber song is the best song of Anuel AA\n"
     ]
    }
   ],
   "source": [
    "for artist in artist_best_song:\n",
    "    print(artist_best_song[artist], 'song is the best song of', artist)\n",
    "        "
   ]
  },
  {
   "cell_type": "code",
   "execution_count": null,
   "id": "0a1299df-b333-4984-a2b1-82b2ae49a775",
   "metadata": {},
   "outputs": [],
   "source": []
  },
  {
   "cell_type": "code",
   "execution_count": null,
   "id": "f6e9b06d-1f88-41d1-868c-fbf2f53ba058",
   "metadata": {},
   "outputs": [],
   "source": []
  }
 ],
 "metadata": {
  "kernelspec": {
   "display_name": "Python 3 (ipykernel)",
   "language": "python",
   "name": "python3"
  },
  "language_info": {
   "codemirror_mode": {
    "name": "ipython",
    "version": 3
   },
   "file_extension": ".py",
   "mimetype": "text/x-python",
   "name": "python",
   "nbconvert_exporter": "python",
   "pygments_lexer": "ipython3",
   "version": "3.9.13"
  }
 },
 "nbformat": 4,
 "nbformat_minor": 5
}
